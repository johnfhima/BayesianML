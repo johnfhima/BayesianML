{
  "nbformat": 4,
  "nbformat_minor": 0,
  "metadata": {
    "colab": {
      "name": "bayes2.ipynb",
      "provenance": [],
      "collapsed_sections": [],
      "toc_visible": true
    },
    "kernelspec": {
      "name": "python3",
      "display_name": "Python 3"
    }
  },
  "cells": [
    {
      "cell_type": "code",
      "metadata": {
        "id": "WRv8EirauxkF",
        "colab_type": "code",
        "colab": {}
      },
      "source": [
        "import numpy\n",
        "import numpy as np\n",
        "\n",
        "#génération par acceptation rejet impraticable car bcp trop long \n",
        "#liste_obs = []\n",
        "#while len(liste_obs) < 1000:\n",
        " # tmp = numpy.random.uniform(low=-1, high=1.0, size=(1,100))\n",
        "  ##print(np.linalg.norm(tmp))\n",
        "  #if np.linalg.norm(tmp) < 1:\n",
        "   # liste_obs.append(tmp)\n",
        "   # print(len(lise_obs))"
      ],
      "execution_count": 0,
      "outputs": []
    },
    {
      "cell_type": "markdown",
      "metadata": {
        "id": "t_a4a_fJ0GCO",
        "colab_type": "text"
      },
      "source": [
        "\n",
        "Corollaire 19. Soient N1, . . . , Nd des variables aléatoires i.i.d. N(0, 1). Posons\n",
        "R := (N\n",
        "2\n",
        "1 + · · · + N\n",
        "2\n",
        "d\n",
        ")\n",
        "1/2\n",
        ".\n",
        "Alors le vecteur aléatoire  N1\n",
        "R\n",
        ", . . . ,\n",
        "Nd\n",
        "R\n",
        "\u0001\n",
        "suit la loi uniforme sur C"
      ]
    },
    {
      "cell_type": "code",
      "metadata": {
        "id": "2e6xlnBeu4dT",
        "colab_type": "code",
        "colab": {}
      },
      "source": [
        "def generate_point(p):\n",
        "  liste = []\n",
        "  for i in range(p):\n",
        "    liste.append(numpy.random.normal(0,1))\n",
        "  array = np.array(liste)\n",
        "  norme = np.linalg.norm(array)\n",
        "  array = array / norme\n",
        "  return array"
      ],
      "execution_count": 0,
      "outputs": []
    },
    {
      "cell_type": "code",
      "metadata": {
        "id": "x21O19zb0wtf",
        "colab_type": "code",
        "colab": {}
      },
      "source": [
        "liste_obs = []\n",
        "dim = 400\n",
        "for i in range(1000):\n",
        "  liste_obs.append(generate_point(dim))"
      ],
      "execution_count": 0,
      "outputs": []
    },
    {
      "cell_type": "code",
      "metadata": {
        "id": "ZBe2-Sx41fGj",
        "colab_type": "code",
        "colab": {}
      },
      "source": [
        "liste_obs_trunc = []\n",
        "for i in liste_obs:\n",
        "  liste_obs_trunc.append(i[:2])"
      ],
      "execution_count": 0,
      "outputs": []
    },
    {
      "cell_type": "code",
      "metadata": {
        "id": "0jaYEeNM1hg0",
        "colab_type": "code",
        "colab": {}
      },
      "source": [
        "x = [i[0] for i in liste_obs_trunc]\n",
        "y = [i[1] for i in liste_obs_trunc]"
      ],
      "execution_count": 0,
      "outputs": []
    },
    {
      "cell_type": "code",
      "metadata": {
        "id": "5s_0wHRG2cj8",
        "colab_type": "code",
        "colab": {}
      },
      "source": [
        "contour_x = np.linspace(-1, 1, 100)"
      ],
      "execution_count": 0,
      "outputs": []
    },
    {
      "cell_type": "code",
      "metadata": {
        "id": "6qunMx-s2gBu",
        "colab_type": "code",
        "colab": {}
      },
      "source": [
        "contour_y_plus = np.array([(1 - x**2)**0.5 for x in contour_x])\n",
        "contour_y_moins = np.array([-(1 - x**2)**0.5 for x in contour_x])"
      ],
      "execution_count": 0,
      "outputs": []
    },
    {
      "cell_type": "code",
      "metadata": {
        "id": "dUBXPTXo2EDn",
        "colab_type": "code",
        "outputId": "ab240b02-0fe5-4c40-a618-afe39545f3ec",
        "colab": {
          "base_uri": "https://localhost:8080/",
          "height": 282
        }
      },
      "source": [
        "import matplotlib.pyplot as plt\n",
        "plt.scatter(x,y)\n",
        "plt.scatter(contour_x, contour_y_plus,color = \"black\")\n",
        "plt.scatter(contour_x,contour_y_moins,color = \"black\")\n"
      ],
      "execution_count": 0,
      "outputs": [
        {
          "output_type": "execute_result",
          "data": {
            "text/plain": [
              "<matplotlib.collections.PathCollection at 0x7f3b4a5fd9b0>"
            ]
          },
          "metadata": {
            "tags": []
          },
          "execution_count": 71
        },
        {
          "output_type": "display_data",
          "data": {
            "image/png": "[encoded data removed]",
            "text/plain": [
              "<Figure size 432x288 with 1 Axes>"
            ]
          },
          "metadata": {
            "tags": []
          }
        }
      ]
    },
    {
      "cell_type": "code",
      "metadata": {
        "id": "d4zKZspDtJi9",
        "colab_type": "code",
        "outputId": "6767fe47-ab22-440b-9b7e-79d55a780494",
        "colab": {
          "base_uri": "https://localhost:8080/",
          "height": 538
        }
      },
      "source": [
        "import matplotlib\n",
        "matplotlib.pyplot.hist(x,50)"
      ],
      "execution_count": 0,
      "outputs": [
        {
          "output_type": "execute_result",
          "data": {
            "text/plain": [
              "(array([ 2.,  2.,  2.,  0.,  3.,  2.,  2.,  2.,  6.,  9.,  6., 13., 12.,\n",
              "        14., 30., 32., 26., 37., 46., 38., 51., 49., 46., 58., 42., 51.,\n",
              "        53., 55., 48., 47., 30., 43., 28., 31., 18., 16., 16.,  9.,  5.,\n",
              "         4.,  3.,  0.,  6.,  3.,  2.,  0.,  1.,  0.,  0.,  1.]),\n",
              " array([-0.16729474, -0.16038872, -0.15348271, -0.14657669, -0.13967068,\n",
              "        -0.13276467, -0.12585865, -0.11895264, -0.11204663, -0.10514061,\n",
              "        -0.0982346 , -0.09132858, -0.08442257, -0.07751656, -0.07061054,\n",
              "        -0.06370453, -0.05679852, -0.0498925 , -0.04298649, -0.03608048,\n",
              "        -0.02917446, -0.02226845, -0.01536243, -0.00845642, -0.00155041,\n",
              "         0.00535561,  0.01226162,  0.01916763,  0.02607365,  0.03297966,\n",
              "         0.03988568,  0.04679169,  0.0536977 ,  0.06060372,  0.06750973,\n",
              "         0.07441574,  0.08132176,  0.08822777,  0.09513378,  0.1020398 ,\n",
              "         0.10894581,  0.11585183,  0.12275784,  0.12966385,  0.13656987,\n",
              "         0.14347588,  0.15038189,  0.15728791,  0.16419392,  0.17109994,\n",
              "         0.17800595]),\n",
              " <a list of 50 Patch objects>)"
            ]
          },
          "metadata": {
            "tags": []
          },
          "execution_count": 75
        },
        {
          "output_type": "display_data",
          "data": {
            "image/png": "[encoded data removed]",
            "text/plain": [
              "<Figure size 432x288 with 1 Axes>"
            ]
          },
          "metadata": {
            "tags": []
          }
        }
      ]
    }
  ]
}